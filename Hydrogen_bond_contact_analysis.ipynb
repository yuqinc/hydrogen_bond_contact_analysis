{
 "cells": [
  {
   "cell_type": "markdown",
   "metadata": {},
   "source": [
    "## This repository is about hydrogen bond/contact analyses between DNA and protein\n",
    "## Part A plots the bar chart\n",
    "## Part B plots the heat map"
   ]
  },
  {
   "cell_type": "code",
   "execution_count": 3,
   "metadata": {
    "collapsed": true
   },
   "outputs": [],
   "source": [
    "#!/home/caiy/anaconda/bin/python\n",
    "%matplotlib inline\n",
    "import matplotlib.pyplot as plt\n",
    "import numpy as np\n",
    "import pandas as pd\n",
    "from pylab import *\n",
    "from matplotlib import rc, rcParams"
   ]
  },
  {
   "cell_type": "code",
   "execution_count": 14,
   "metadata": {
    "collapsed": false,
    "scrolled": false
   },
   "outputs": [
    {
     "data": {
      "text/plain": [
       "<matplotlib.legend.Legend at 0x10c820290>"
      ]
     },
     "execution_count": 14,
     "metadata": {},
     "output_type": "execute_result"
    },
    {
     "data": {
      "image/png": "[encoded data removed]",
      "text/plain": [
       "<matplotlib.figure.Figure at 0x10c99c750>"
      ]
     },
     "metadata": {},
     "output_type": "display_data"
    }
   ],
   "source": [
    "df =pd.read_csv(\"HB_occupancy.csv\", index_col=0) #dataframe\n",
    "#column_labels=(\"R-cdA\",\"S-cdA\",\"UNDA\",\"R-cdG\",\"S-cdG\",\"cis-dG\",\"UNDG\")\n",
    "#row_labels=list(\"H3-LYS115\",\"H3-LYS122\",\"H3(2)-LYS115\",\"H3-VAL117\",\"H3-THR118\")  \n",
    "df2 =pd.read_csv(\"HB_occupancy.csv\", index_col=0) #dataframe\n",
    "df3=df2.T  #tranpose \n",
    "colors=[\"blue\",\"cyan\",\"yellow\",\"red\",\"pink\"]\n",
    "width =0.45\n",
    "\n",
    "df3.plot(kind='bar', stacked=True, color=colors, edgecolor=\"white\", linewidth=4, alpha= 1)\n",
    "plt.legend(loc='best', bbox_to_anchor=(0.5,1.1), fancybox=True,shadow=True,ncol=3)\n",
    "#plt.set_xticklabels(column_labels,rotation=90, minor=False,labelsize=15)\n",
    "#set_ylabel(\"Hydrogen bond occupancies\", fontsize=15)\n",
    "\n",
    "#plt.show() \n",
    "\n",
    "#savefig('HB_bar_stacked.png',figsize=(10, 10), dpi=300, facecolor='w', edgecolor='w', orientation='portrait', papertype=None, format=None, transparent\n",
    "#=False, bbox_inches=None, pad_inches=0.1, frameon=None)"
   ]
  },
  {
   "cell_type": "code",
   "execution_count": 22,
   "metadata": {
    "collapsed": false,
    "scrolled": false
   },
   "outputs": [],
   "source": [
    "df3=df3[:5].reset_index()"
   ]
  },
  {
   "cell_type": "code",
   "execution_count": 27,
   "metadata": {
    "collapsed": false
   },
   "outputs": [
    {
     "data": {
      "text/html": [
       "<div style=\"max-height:1000px;max-width:1500px;overflow:auto;\">\n",
       "<table border=\"1\" class=\"dataframe\">\n",
       "  <thead>\n",
       "    <tr style=\"text-align: right;\">\n",
       "      <th></th>\n",
       "      <th>index</th>\n",
       "      <th>H3-LYS115</th>\n",
       "      <th>H3-LYS122</th>\n",
       "      <th>H3(2)-LYS115</th>\n",
       "      <th>H3-VAL117</th>\n",
       "      <th>H3-THR118</th>\n",
       "    </tr>\n",
       "  </thead>\n",
       "  <tbody>\n",
       "    <tr>\n",
       "      <th>0</th>\n",
       "      <td> R-cdA</td>\n",
       "      <td> 58</td>\n",
       "      <td> 28</td>\n",
       "      <td>  86</td>\n",
       "      <td> 190</td>\n",
       "      <td> 100.0</td>\n",
       "    </tr>\n",
       "    <tr>\n",
       "      <th>1</th>\n",
       "      <td> S-cdA</td>\n",
       "      <td>  0</td>\n",
       "      <td> 49</td>\n",
       "      <td>  61</td>\n",
       "      <td> 194</td>\n",
       "      <td> 100.0</td>\n",
       "    </tr>\n",
       "    <tr>\n",
       "      <th>2</th>\n",
       "      <td>  UNDA</td>\n",
       "      <td> 30</td>\n",
       "      <td> 54</td>\n",
       "      <td>  83</td>\n",
       "      <td> 189</td>\n",
       "      <td> 100.0</td>\n",
       "    </tr>\n",
       "    <tr>\n",
       "      <th>3</th>\n",
       "      <td> R-cdG</td>\n",
       "      <td> 62</td>\n",
       "      <td> 44</td>\n",
       "      <td>  42</td>\n",
       "      <td> 191</td>\n",
       "      <td>  99.6</td>\n",
       "    </tr>\n",
       "    <tr>\n",
       "      <th>4</th>\n",
       "      <td> S-cdG</td>\n",
       "      <td> 58</td>\n",
       "      <td> 17</td>\n",
       "      <td> 123</td>\n",
       "      <td> 190</td>\n",
       "      <td> 100.0</td>\n",
       "    </tr>\n",
       "  </tbody>\n",
       "</table>\n",
       "</div>"
      ],
      "text/plain": [
       "   index  H3-LYS115  H3-LYS122  H3(2)-LYS115  H3-VAL117  H3-THR118\n",
       "0  R-cdA         58         28            86        190      100.0\n",
       "1  S-cdA          0         49            61        194      100.0\n",
       "2   UNDA         30         54            83        189      100.0\n",
       "3  R-cdG         62         44            42        191       99.6\n",
       "4  S-cdG         58         17           123        190      100.0"
      ]
     },
     "execution_count": 27,
     "metadata": {},
     "output_type": "execute_result"
    }
   ],
   "source": [
    "df3"
   ]
  },
  {
   "cell_type": "code",
   "execution_count": 32,
   "metadata": {
    "collapsed": false
   },
   "outputs": [],
   "source": [
    "df3[\"bar5\"]=df3[\"H3-LYS115\"]+df3[\"H3-LYS122\"]+df3[\"H3(2)-LYS115\"]+df3[\"H3-VAL117\"]+df3[\"H3-THR118\"]\n",
    "df3[\"bar4\"]=df3[\"H3-LYS115\"]+df3[\"H3-LYS122\"]+df3[\"H3(2)-LYS115\"]+df3[\"H3-VAL117\"]\n",
    "df3[\"bar3\"]=df3[\"H3-LYS115\"]+df3[\"H3-LYS122\"]+df3[\"H3(2)-LYS115\"]\n",
    "df3[\"bar2\"]=df3[\"H3-LYS115\"]+df3[\"H3-LYS122\"]\n",
    "df3[\"bar1\"]=df3[\"H3-LYS115\"]"
   ]
  },
  {
   "cell_type": "code",
   "execution_count": 33,
   "metadata": {
    "collapsed": false,
    "scrolled": true
   },
   "outputs": [
    {
     "data": {
      "text/html": [
       "<div style=\"max-height:1000px;max-width:1500px;overflow:auto;\">\n",
       "<table border=\"1\" class=\"dataframe\">\n",
       "  <thead>\n",
       "    <tr style=\"text-align: right;\">\n",
       "      <th></th>\n",
       "      <th>index</th>\n",
       "      <th>H3-LYS115</th>\n",
       "      <th>H3-LYS122</th>\n",
       "      <th>H3(2)-LYS115</th>\n",
       "      <th>H3-VAL117</th>\n",
       "      <th>H3-THR118</th>\n",
       "      <th>bar1</th>\n",
       "      <th>bar2</th>\n",
       "      <th>bar3</th>\n",
       "      <th>bar4</th>\n",
       "      <th>bar5</th>\n",
       "    </tr>\n",
       "  </thead>\n",
       "  <tbody>\n",
       "    <tr>\n",
       "      <th>0</th>\n",
       "      <td> R-cdA</td>\n",
       "      <td> 58</td>\n",
       "      <td> 28</td>\n",
       "      <td>  86</td>\n",
       "      <td> 190</td>\n",
       "      <td> 100.0</td>\n",
       "      <td> 462.0</td>\n",
       "      <td> 362</td>\n",
       "      <td> 172</td>\n",
       "      <td>  86</td>\n",
       "      <td> 58</td>\n",
       "    </tr>\n",
       "    <tr>\n",
       "      <th>1</th>\n",
       "      <td> S-cdA</td>\n",
       "      <td>  0</td>\n",
       "      <td> 49</td>\n",
       "      <td>  61</td>\n",
       "      <td> 194</td>\n",
       "      <td> 100.0</td>\n",
       "      <td> 404.0</td>\n",
       "      <td> 304</td>\n",
       "      <td> 110</td>\n",
       "      <td>  49</td>\n",
       "      <td>  0</td>\n",
       "    </tr>\n",
       "    <tr>\n",
       "      <th>2</th>\n",
       "      <td>  UNDA</td>\n",
       "      <td> 30</td>\n",
       "      <td> 54</td>\n",
       "      <td>  83</td>\n",
       "      <td> 189</td>\n",
       "      <td> 100.0</td>\n",
       "      <td> 456.0</td>\n",
       "      <td> 356</td>\n",
       "      <td> 167</td>\n",
       "      <td>  84</td>\n",
       "      <td> 30</td>\n",
       "    </tr>\n",
       "    <tr>\n",
       "      <th>3</th>\n",
       "      <td> R-cdG</td>\n",
       "      <td> 62</td>\n",
       "      <td> 44</td>\n",
       "      <td>  42</td>\n",
       "      <td> 191</td>\n",
       "      <td>  99.6</td>\n",
       "      <td> 438.6</td>\n",
       "      <td> 339</td>\n",
       "      <td> 148</td>\n",
       "      <td> 106</td>\n",
       "      <td> 62</td>\n",
       "    </tr>\n",
       "    <tr>\n",
       "      <th>4</th>\n",
       "      <td> S-cdG</td>\n",
       "      <td> 58</td>\n",
       "      <td> 17</td>\n",
       "      <td> 123</td>\n",
       "      <td> 190</td>\n",
       "      <td> 100.0</td>\n",
       "      <td> 488.0</td>\n",
       "      <td> 388</td>\n",
       "      <td> 198</td>\n",
       "      <td>  75</td>\n",
       "      <td> 58</td>\n",
       "    </tr>\n",
       "  </tbody>\n",
       "</table>\n",
       "</div>"
      ],
      "text/plain": [
       "   index  H3-LYS115  H3-LYS122  H3(2)-LYS115  H3-VAL117  H3-THR118   bar1  \\\n",
       "0  R-cdA         58         28            86        190      100.0  462.0   \n",
       "1  S-cdA          0         49            61        194      100.0  404.0   \n",
       "2   UNDA         30         54            83        189      100.0  456.0   \n",
       "3  R-cdG         62         44            42        191       99.6  438.6   \n",
       "4  S-cdG         58         17           123        190      100.0  488.0   \n",
       "\n",
       "   bar2  bar3  bar4  bar5  \n",
       "0   362   172    86    58  \n",
       "1   304   110    49     0  \n",
       "2   356   167    84    30  \n",
       "3   339   148   106    62  \n",
       "4   388   198    75    58  "
      ]
     },
     "execution_count": 33,
     "metadata": {},
     "output_type": "execute_result"
    }
   ],
   "source": [
    "df3"
   ]
  },
  {
   "cell_type": "markdown",
   "metadata": {},
   "source": [
    "## See if we can do a better job with seaborn"
   ]
  },
  {
   "cell_type": "code",
   "execution_count": 61,
   "metadata": {
    "collapsed": false,
    "scrolled": false
   },
   "outputs": [
    {
     "data": {
      "image/png": "[encoded data removed]",
      "text/plain": [
       "<matplotlib.figure.Figure at 0x10d08c690>"
      ]
     },
     "metadata": {},
     "output_type": "display_data"
    }
   ],
   "source": [
    "import seaborn as sns\n",
    "import matplotlib.pyplot as plt\n",
    "sns.set(style=\"whitegrid\")\n",
    "\n",
    "# Initialize the matplotlib figure\n",
    "f, ax = plt.subplots(figsize=(12, 6))\n",
    "\n",
    "# Plot \n",
    "#varing color in \"deep, muted, pastel, dark, bright, colorblind\"\n",
    "sns.set_color_codes(\"pastel\")\n",
    "sns.barplot(y=\"index\", x=\"bar1\", data=df3, label=\"H3-THR118\", color=\"b\")\n",
    "\n",
    "sns.set_color_codes(\"deep\")\n",
    "sns.barplot(y=\"index\", x=\"bar2\", data=df3, label=\"H3-VAL117\", color=\"b\")\n",
    "\n",
    "sns.set_color_codes(\"colorblind\")\n",
    "sns.barplot(y=\"index\", x=\"bar3\", data=df3, label=\"H3(2)-LYS115\",color=\"b\")\n",
    "\n",
    "sns.set_color_codes(\"muted\")\n",
    "sns.barplot(y=\"index\", x=\"bar4\", data=df3, label=\"H3-LYS122\",color=\"b\")\n",
    "\n",
    "sns.set_color_codes(\"dark\")\n",
    "sns.barplot(y=\"index\", x=\"bar5\", data=df3, label=\"H3-LYS115\", color=\"b\")\n",
    "\n",
    "# Add a legend and informative axis label\n",
    "ax.legend(ncol=5, loc=\"best\", frameon=True)\n",
    "ax.set(xlim=(0, 500), ylabel=\"\",\n",
    "       xlabel=\"Hydrogen bond occupancies\")\n",
    "sns.despine(left=True, bottom=True)"
   ]
  },
  {
   "cell_type": "markdown",
   "metadata": {},
   "source": [
    "## Step 2, Heatmap"
   ]
  },
  {
   "cell_type": "code",
   "execution_count": 76,
   "metadata": {
    "collapsed": false
   },
   "outputs": [
    {
     "name": "stdout",
     "output_type": "stream",
     "text": [
      "              R-cdA  S-cdA  UNDA  R-cdG  S-cdG  cis-dG  UNDG\n",
      "H3-LYS115        58      0    30   62.0     58      23    30\n",
      "H3-LYS122        28     49    54   44.0     17      33    54\n",
      "H3(2)-LYS115     86     61    83   42.0    123      83    83\n",
      "H3-VAL117       190    194   189  191.0    190     194   189\n",
      "H3-THR118       100    100   100   99.6    100     100   100\n",
      "5\n",
      "7\n",
      "[ 0.5  1.5  2.5  3.5  4.5]\n",
      "[ 0.5  1.5  2.5  3.5  4.5  5.5  6.5]\n"
     ]
    }
   ],
   "source": [
    "dataMatrix =pd.read_csv(\"HB_occupancy.csv\", index_col=0)\n",
    "\n",
    "print dataMatrix\n",
    "print dataMatrix.shape[0]\n",
    "print dataMatrix.shape[1] \n",
    "print np.arange(dataMatrix.shape[0])+0.5\n",
    "print np.arange(dataMatrix.shape[1])+0.5"
   ]
  },
  {
   "cell_type": "code",
   "execution_count": 90,
   "metadata": {
    "collapsed": false,
    "scrolled": true
   },
   "outputs": [
    {
     "data": {
      "text/plain": [
       "<matplotlib.figure.Figure at 0x10ea10790>"
      ]
     },
     "metadata": {},
     "output_type": "display_data"
    },
    {
     "data": {
      "image/png": "[encoded data removed]",
      "text/plain": [
       "<matplotlib.figure.Figure at 0x10ea10250>"
      ]
     },
     "metadata": {},
     "output_type": "display_data"
    }
   ],
   "source": [
    "column_labels=[\"R-cdA\",\"S-cdA\",\"UNDA\",\"R-cdG\",\"S-cdG\",\"cis-BP-dG\",\"UNDG\"]\n",
    "row_labels=[\"H3-LYS115\",\"H3-LYS122\",\"H3(2)-LYS115\",\"H3-VAL117\",\"H3-THR118\"]\n",
    "\n",
    "mycm = plt.cm.Reds\n",
    "#mycm = plt.cm.Blues\n",
    "\n",
    "fig =plt.figure(figsize=(9, 9))\n",
    "ax =figure().add_subplot(111)\n",
    "heatmap = ax.pcolor(dataMatrix, cmap=mycm)\n",
    "#ax.plot_surface(xs,ys,zs)\n",
    "\n",
    "# add the major ticks \n",
    "ax.set_xticks(np.arange(dataMatrix.shape[1])+0.5, minor=False)\n",
    "ax.set_yticks(np.arange(dataMatrix.shape[0])+0.5, minor=False)\n",
    "\n",
    "ax.invert_yaxis()\n",
    "ax.xaxis.tick_top()\n",
    "\n",
    "ax.set_xticklabels(column_labels,rotation=0, minor=False)\n",
    "ax.set_yticklabels(row_labels,rotation=45, minor=False)\n",
    "ax.text(0.8, 0.8, 'Hydrogen bond contacts\\n between DNA and Histones', style='italic', fontsize=12, bbox={'facecolor':'white', 'alpha':0.5, 'pad':10})\n",
    "\n",
    "\n",
    "box = ax.get_position()\n",
    "ax.set_position([box.x0*1.05, box.y0, box.width, box.height])\n",
    "\n",
    "axColor = plt.axes([box.x0*1.05 + box.width * 1.05, box.y0, 0.03, box.height])\n",
    "plt.colorbar(heatmap, cax = axColor, orientation=\"vertical\")\n",
    "\n",
    "#savefig('HB_heatmap.jpg',figsize=(10, 7.15), dpi=300, facecolor='w', edgecolor='w', orientation='portrait', papertype=None, format=None, transparent\n",
    "#=False, bbox_inches=None, pad_inches=0.1, frameon=None)\n",
    "plt.show() "
   ]
  },
  {
   "cell_type": "markdown",
   "metadata": {},
   "source": [
    "## Now try some bokeh"
   ]
  },
  {
   "cell_type": "code",
   "execution_count": 110,
   "metadata": {
    "collapsed": false,
    "scrolled": true
   },
   "outputs": [
    {
     "data": {
      "text/html": [
       "<div style=\"max-height:1000px;max-width:1500px;overflow:auto;\">\n",
       "<table border=\"1\" class=\"dataframe\">\n",
       "  <thead>\n",
       "    <tr style=\"text-align: right;\">\n",
       "      <th></th>\n",
       "      <th>H3-LYS115</th>\n",
       "      <th>H3-LYS122</th>\n",
       "      <th>H3(2)-LYS115</th>\n",
       "      <th>H3-VAL117</th>\n",
       "      <th>H3-THR118</th>\n",
       "    </tr>\n",
       "  </thead>\n",
       "  <tbody>\n",
       "    <tr>\n",
       "      <th>R-cdA</th>\n",
       "      <td> 58</td>\n",
       "      <td> 28</td>\n",
       "      <td>  86</td>\n",
       "      <td> 190</td>\n",
       "      <td> 100.0</td>\n",
       "    </tr>\n",
       "    <tr>\n",
       "      <th>S-cdA</th>\n",
       "      <td>  0</td>\n",
       "      <td> 49</td>\n",
       "      <td>  61</td>\n",
       "      <td> 194</td>\n",
       "      <td> 100.0</td>\n",
       "    </tr>\n",
       "    <tr>\n",
       "      <th>UNDA</th>\n",
       "      <td> 30</td>\n",
       "      <td> 54</td>\n",
       "      <td>  83</td>\n",
       "      <td> 189</td>\n",
       "      <td> 100.0</td>\n",
       "    </tr>\n",
       "    <tr>\n",
       "      <th>R-cdG</th>\n",
       "      <td> 62</td>\n",
       "      <td> 44</td>\n",
       "      <td>  42</td>\n",
       "      <td> 191</td>\n",
       "      <td>  99.6</td>\n",
       "    </tr>\n",
       "    <tr>\n",
       "      <th>S-cdG</th>\n",
       "      <td> 58</td>\n",
       "      <td> 17</td>\n",
       "      <td> 123</td>\n",
       "      <td> 190</td>\n",
       "      <td> 100.0</td>\n",
       "    </tr>\n",
       "    <tr>\n",
       "      <th>cis-dG</th>\n",
       "      <td> 23</td>\n",
       "      <td> 33</td>\n",
       "      <td>  83</td>\n",
       "      <td> 194</td>\n",
       "      <td> 100.0</td>\n",
       "    </tr>\n",
       "    <tr>\n",
       "      <th>UNDG</th>\n",
       "      <td> 30</td>\n",
       "      <td> 54</td>\n",
       "      <td>  83</td>\n",
       "      <td> 189</td>\n",
       "      <td> 100.0</td>\n",
       "    </tr>\n",
       "  </tbody>\n",
       "</table>\n",
       "</div>"
      ],
      "text/plain": [
       "        H3-LYS115  H3-LYS122  H3(2)-LYS115  H3-VAL117  H3-THR118\n",
       "R-cdA          58         28            86        190      100.0\n",
       "S-cdA           0         49            61        194      100.0\n",
       "UNDA           30         54            83        189      100.0\n",
       "R-cdG          62         44            42        191       99.6\n",
       "S-cdG          58         17           123        190      100.0\n",
       "cis-dG         23         33            83        194      100.0\n",
       "UNDG           30         54            83        189      100.0"
      ]
     },
     "execution_count": 110,
     "metadata": {},
     "output_type": "execute_result"
    }
   ],
   "source": [
    "from bokeh._legacy_charts import HeatMap, output_file, show\n",
    "from bokeh.palettes import YlOrRd9 as palette\n",
    "\n",
    "df = dataMatrix\n",
    "df2 = df.transpose()\n",
    "df2[:9]"
   ]
  },
  {
   "cell_type": "code",
   "execution_count": 111,
   "metadata": {
    "collapsed": false
   },
   "outputs": [],
   "source": [
    "output_file(\"HB_heatmap.html\")\n",
    "\n",
    "palette = palette[::-1]  # Reverse the color order so dark red is highest unemployment\n",
    "hm = HeatMap(df3, title=\"hydrogen bond contact heatmap\", width=800, palette=palette)\n",
    "\n",
    "show(hm)"
   ]
  },
  {
   "cell_type": "code",
   "execution_count": 112,
   "metadata": {
    "collapsed": false
   },
   "outputs": [
    {
     "data": {
      "text/html": [
       "<img src=\"./heatmap.png\"/>"
      ],
      "text/plain": [
       "<IPython.core.display.Image object>"
      ]
     },
     "execution_count": 112,
     "metadata": {},
     "output_type": "execute_result"
    }
   ],
   "source": [
    "from IPython.display import Image\n",
    "from IPython.core.display import HTML \n",
    "Image(url= \"./heatmap.png\")"
   ]
  },
  {
   "cell_type": "code",
   "execution_count": null,
   "metadata": {
    "collapsed": true
   },
   "outputs": [],
   "source": []
  }
 ],
 "metadata": {
  "kernelspec": {
   "display_name": "Python 2",
   "language": "python",
   "name": "python2"
  },
  "language_info": {
   "codemirror_mode": {
    "name": "ipython",
    "version": 2
   },
   "file_extension": ".py",
   "mimetype": "text/x-python",
   "name": "python",
   "nbconvert_exporter": "python",
   "pygments_lexer": "ipython2",
   "version": "2.7.10"
  }
 },
 "nbformat": 4,
 "nbformat_minor": 0
}
